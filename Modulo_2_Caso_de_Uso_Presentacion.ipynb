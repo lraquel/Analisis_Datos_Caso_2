{
 "cells": [
  {
   "attachments": {},
   "cell_type": "markdown",
   "metadata": {},
   "source": [
    "## Caso de Uso 2"
   ]
  },
  {
   "attachments": {},
   "cell_type": "markdown",
   "metadata": {},
   "source": [
    "Una tienda de ropa nos proporciona datos de ventas para su análisis. Los datos vienen en forma de una lista de diccionarios, donde cada diccionario represente una venta y tenga las siguientes claves:\n",
    "\n",
    "'fecha': fecha de la venta en formato 'YYYY-MM-DD'.\n",
    "\n",
    "'producto': nombre del producto vendido.\n",
    "\n",
    "'precio': precio del producto vendido.\n",
    "\n",
    "'cantidad': cantidad de productos vendidos.\n",
    "\n",
    "'total': total de la venta (precio x cantidad).\n",
    "\n",
    "\n",
    "1.- Calcula y muestra el total facturado por las ventas realizadas\n",
    "\n",
    "2.- Crea un diccionario que contenga la cantidad de productos vendidos por cada tipo de producto.\n",
    "\n",
    "3.- Muestra el tipo de producto con mayor cantidad de ventas y el tipo de producto con menor cantidad de ventas.\n",
    "\n",
    "4.- Muestra el total de ventas realizadas por cada mes del período de tiempo representado por los datos.\n",
    "\n",
    "5.- Transforma el cálculo de ventas por mes en una función que podamos reutilizar cuando lleguen los nuevos datos de Abril y Mayo.\n"
   ]
  },
  {
   "cell_type": "code",
   "execution_count": 1,
   "metadata": {},
   "outputs": [],
   "source": [
    "ventas = [\n",
    "    {'fecha': '2022-01-18', 'producto': 'Camisa', 'precio': 40, 'cantidad': 2, 'total': 80},\n",
    "    {'fecha': '2022-01-03', 'producto': 'Falda', 'precio': 50, 'cantidad': 1, 'total': 50},\n",
    "    {'fecha': '2022-02-17', 'producto': 'Camisa', 'precio': 40, 'cantidad': 3, 'total': 120},\n",
    "    {'fecha': '2022-03-11', 'producto': 'Pantalón', 'precio': 60, 'cantidad': 2, 'total': 120},\n",
    "    {'fecha': '2022-02-12', 'producto': 'Camisa', 'precio': 40, 'cantidad': 1, 'total': 40},    {'fecha': '2022-02-01', 'producto': 'Camisa', 'precio': 40, 'cantidad': 3, 'total': 120},\n",
    "    {'fecha': '2022-01-03', 'producto': 'Pantalón', 'precio': 60, 'cantidad': 2, 'total': 120},\n",
    "    {'fecha': '2022-03-10', 'producto': 'Falda', 'precio': 50, 'cantidad': 1, 'total': 50},    {'fecha': '2022-02-15', 'producto': 'Camisa', 'precio': 40, 'cantidad': 1, 'total': 40},    {'fecha': '2022-02-01', 'producto': 'Camisa', 'precio': 40, 'cantidad': 3, 'total': 120},\n",
    "    {'fecha': '2022-01-05', 'producto': 'Pantalón', 'precio': 60, 'cantidad': 2, 'total': 120},\n",
    "    {'fecha': '2022-03-25', 'producto': 'Chaqueta', 'precio': 80, 'cantidad': 1, 'total': 80}\n",
    "]"
   ]
  },
  {
   "attachments": {},
   "cell_type": "markdown",
   "metadata": {},
   "source": [
    "#### 1.- Calcula y muestra el total facturado por las ventas realizadas"
   ]
  },
  {
   "cell_type": "code",
   "execution_count": 2,
   "metadata": {},
   "outputs": [
    {
     "data": {
      "text/plain": [
       "list"
      ]
     },
     "execution_count": 2,
     "metadata": {},
     "output_type": "execute_result"
    }
   ],
   "source": [
    "# Explorar, consultar los datos\n",
    "type(ventas)"
   ]
  },
  {
   "cell_type": "code",
   "execution_count": 3,
   "metadata": {},
   "outputs": [
    {
     "data": {
      "text/plain": [
       "{'fecha': '2022-01-18',\n",
       " 'producto': 'Camisa',\n",
       " 'precio': 40,\n",
       " 'cantidad': 2,\n",
       " 'total': 80}"
      ]
     },
     "execution_count": 3,
     "metadata": {},
     "output_type": "execute_result"
    }
   ],
   "source": [
    "ventas[0]"
   ]
  },
  {
   "cell_type": "code",
   "execution_count": 7,
   "metadata": {},
   "outputs": [
    {
     "data": {
      "text/plain": [
       "'2022-01-18'"
      ]
     },
     "execution_count": 7,
     "metadata": {},
     "output_type": "execute_result"
    }
   ],
   "source": [
    "ventas[0]['fecha']\n"
   ]
  },
  {
   "cell_type": "code",
   "execution_count": 8,
   "metadata": {},
   "outputs": [
    {
     "data": {
      "text/plain": [
       "80"
      ]
     },
     "execution_count": 8,
     "metadata": {},
     "output_type": "execute_result"
    }
   ],
   "source": [
    "ventas[0]['total']"
   ]
  },
  {
   "cell_type": "code",
   "execution_count": 9,
   "metadata": {},
   "outputs": [
    {
     "name": "stdout",
     "output_type": "stream",
     "text": [
      "{'fecha': '2022-01-18', 'producto': 'Camisa', 'precio': 40, 'cantidad': 2, 'total': 80}\n",
      "{'fecha': '2022-01-03', 'producto': 'Falda', 'precio': 50, 'cantidad': 1, 'total': 50}\n",
      "{'fecha': '2022-02-17', 'producto': 'Camisa', 'precio': 40, 'cantidad': 3, 'total': 120}\n",
      "{'fecha': '2022-03-11', 'producto': 'Pantalón', 'precio': 60, 'cantidad': 2, 'total': 120}\n",
      "{'fecha': '2022-02-12', 'producto': 'Camisa', 'precio': 40, 'cantidad': 1, 'total': 40}\n",
      "{'fecha': '2022-02-01', 'producto': 'Camisa', 'precio': 40, 'cantidad': 3, 'total': 120}\n",
      "{'fecha': '2022-01-03', 'producto': 'Pantalón', 'precio': 60, 'cantidad': 2, 'total': 120}\n",
      "{'fecha': '2022-03-10', 'producto': 'Falda', 'precio': 50, 'cantidad': 1, 'total': 50}\n",
      "{'fecha': '2022-02-15', 'producto': 'Camisa', 'precio': 40, 'cantidad': 1, 'total': 40}\n",
      "{'fecha': '2022-02-01', 'producto': 'Camisa', 'precio': 40, 'cantidad': 3, 'total': 120}\n",
      "{'fecha': '2022-01-05', 'producto': 'Pantalón', 'precio': 60, 'cantidad': 2, 'total': 120}\n",
      "{'fecha': '2022-03-25', 'producto': 'Chaqueta', 'precio': 80, 'cantidad': 1, 'total': 80}\n"
     ]
    }
   ],
   "source": [
    "for venta in ventas:\n",
    "    print(venta)"
   ]
  },
  {
   "cell_type": "code",
   "execution_count": 25,
   "metadata": {},
   "outputs": [
    {
     "name": "stdout",
     "output_type": "stream",
     "text": [
      "1060\n"
     ]
    }
   ],
   "source": [
    "total_ventas = 0\n",
    "for venta in ventas:\n",
    "    total_ventas += venta['total']\n",
    "print(total_ventas)    "
   ]
  },
  {
   "cell_type": "code",
   "execution_count": 26,
   "metadata": {},
   "outputs": [
    {
     "name": "stdout",
     "output_type": "stream",
     "text": [
      "Total de ventas: 1060\n"
     ]
    }
   ],
   "source": [
    "# Respuesta 1:\n",
    "print('Total de ventas:', total_ventas)"
   ]
  },
  {
   "attachments": {},
   "cell_type": "markdown",
   "metadata": {},
   "source": [
    "#### 2.- Crea un diccionario que contenga la cantidad de productos vendidos por cada tipo de producto."
   ]
  },
  {
   "cell_type": "code",
   "execution_count": null,
   "metadata": {},
   "outputs": [],
   "source": [
    "# estructura que piden ---> diccionario = {'producto' : 'cantidad'}"
   ]
  },
  {
   "cell_type": "code",
   "execution_count": 23,
   "metadata": {},
   "outputs": [
    {
     "name": "stdout",
     "output_type": "stream",
     "text": [
      "{'Camisa': 13, 'Falda': 2, 'Pantalón': 6, 'Chaqueta': 1}\n"
     ]
    }
   ],
   "source": [
    "productos_vendidos = {}\n",
    "for venta in ventas:\n",
    "    producto = venta['producto']\n",
    "    if producto in productos_vendidos:  #si el producto ya existe en el diccionario le sumo esa cantidad a la cantidad existente\n",
    "        productos_vendidos[producto] += venta['cantidad']\n",
    "    else:\n",
    "        productos_vendidos[producto] = venta['cantidad'] #si no está en el diccionario es un nuevo item, lo agrego y le asigno la cantidad que trae\n",
    "print(productos_vendidos)"
   ]
  },
  {
   "cell_type": "code",
   "execution_count": 24,
   "metadata": {},
   "outputs": [
    {
     "name": "stdout",
     "output_type": "stream",
     "text": [
      "Cantidad de productos vendidos por tipo: {'Camisa': 13, 'Falda': 2, 'Pantalón': 6, 'Chaqueta': 1}\n"
     ]
    }
   ],
   "source": [
    "# Respuesta 2:\n",
    "print('Cantidad de productos vendidos por tipo:', productos_vendidos)"
   ]
  },
  {
   "attachments": {},
   "cell_type": "markdown",
   "metadata": {},
   "source": [
    "#### 3.- Muestra el tipo de producto con mayor cantidad de ventas y el tipo de producto con menor cantidad de ventas."
   ]
  },
  {
   "cell_type": "code",
   "execution_count": 17,
   "metadata": {},
   "outputs": [
    {
     "name": "stdout",
     "output_type": "stream",
     "text": [
      "Camisa 13\n",
      "Falda 2\n",
      "Pantalón 6\n",
      "Chaqueta 1\n"
     ]
    }
   ],
   "source": [
    "for producto, cantidad in productos_vendidos.items():\n",
    "    print(producto, cantidad)"
   ]
  },
  {
   "cell_type": "code",
   "execution_count": 22,
   "metadata": {},
   "outputs": [
    {
     "name": "stdout",
     "output_type": "stream",
     "text": [
      "Camisa 13\n",
      "Chaqueta 1\n"
     ]
    }
   ],
   "source": [
    "producto_mayor_ventas = None\n",
    "cantidad_mayor_ventas = 0\n",
    "producto_menor_ventas = None\n",
    "cantidad_menor_ventas = float('inf')\n",
    "\n",
    "for producto, cantidad in productos_vendidos.items():\n",
    "    if cantidad > cantidad_mayor_ventas:\n",
    "        producto_mayor_ventas = producto\n",
    "        cantidad_mayor_ventas = cantidad\n",
    "    elif cantidad < cantidad_menor_ventas:\n",
    "        producto_menor_ventas = producto\n",
    "        cantidad_menor_ventas = cantidad\n",
    "            \n",
    "print(producto_mayor_ventas, cantidad_mayor_ventas)\n",
    "print(producto_menor_ventas, cantidad_menor_ventas)"
   ]
  },
  {
   "cell_type": "code",
   "execution_count": 28,
   "metadata": {},
   "outputs": [
    {
     "name": "stdout",
     "output_type": "stream",
     "text": [
      "Producto con mayor cantidad de ventas: Camisa\n",
      "Producto con menor cantidad de ventas: Chaqueta\n"
     ]
    }
   ],
   "source": [
    "# Respuesta 3:\n",
    "print('Producto con mayor cantidad de ventas:', producto_mayor_ventas)\n",
    "print('Producto con menor cantidad de ventas:',producto_menor_ventas)"
   ]
  },
  {
   "attachments": {},
   "cell_type": "markdown",
   "metadata": {},
   "source": [
    "#### 4.- Muestra el total de ventas realizadas por cada mes del período de tiempo representado por los datos."
   ]
  },
  {
   "cell_type": "code",
   "execution_count": 29,
   "metadata": {},
   "outputs": [
    {
     "name": "stdout",
     "output_type": "stream",
     "text": [
      "{'01': 370, '02': 440, '03': 250}\n"
     ]
    }
   ],
   "source": [
    "ventas_por_mes = {}\n",
    "\n",
    "for venta in ventas:\n",
    "    mes = venta['fecha'][5:7] #usp slicing para poder comparar con el mes dentro del dato fecha\n",
    "    if mes in ventas_por_mes:\n",
    "        ventas_por_mes[mes] += venta['total']\n",
    "    else:\n",
    "        ventas_por_mes[mes] = venta['total']    \n",
    "\n",
    "print(ventas_por_mes)"
   ]
  },
  {
   "cell_type": "code",
   "execution_count": 30,
   "metadata": {},
   "outputs": [
    {
     "name": "stdout",
     "output_type": "stream",
     "text": [
      "Total de ventas por mes: {'01': 370, '02': 440, '03': 250}\n"
     ]
    }
   ],
   "source": [
    "# Respuest 4:\n",
    "print('Total de ventas por mes:', ventas_por_mes)"
   ]
  },
  {
   "attachments": {},
   "cell_type": "markdown",
   "metadata": {},
   "source": [
    "#### 5.- Transforma el cálculo de ventas por mes en una función que podamos reutilizar cuando lleguen los nuevos datos de Abril y Mayo."
   ]
  },
  {
   "cell_type": "code",
   "execution_count": 32,
   "metadata": {},
   "outputs": [],
   "source": [
    "def ventas_por_mes(ventas):\n",
    "    ventas_por_mes = {}\n",
    "    try:\n",
    "        for venta in ventas:\n",
    "            mes = venta['fecha'][5:7]\n",
    "            if mes in ventas_por_mes:\n",
    "                ventas_por_mes[mes] += venta['total']\n",
    "            else:\n",
    "                ventas_por_mes[mes] = venta['total']\n",
    "                \n",
    "    except Exception as e:\n",
    "        print('Error al procesar ventas: {e} ')       \n",
    "    \n",
    "    return ventas_por_mes             "
   ]
  },
  {
   "cell_type": "code",
   "execution_count": 34,
   "metadata": {},
   "outputs": [
    {
     "name": "stdout",
     "output_type": "stream",
     "text": [
      "Total de ventas por mes: {'01': 370, '02': 440, '03': 250}\n"
     ]
    }
   ],
   "source": [
    "# Respuesta 5:\n",
    "totales = ventas_por_mes(ventas)\n",
    "print('Total de ventas por mes:', totales)"
   ]
  }
 ],
 "metadata": {
  "kernelspec": {
   "display_name": "Python 3",
   "language": "python",
   "name": "python3"
  },
  "language_info": {
   "codemirror_mode": {
    "name": "ipython",
    "version": 3
   },
   "file_extension": ".py",
   "mimetype": "text/x-python",
   "name": "python",
   "nbconvert_exporter": "python",
   "pygments_lexer": "ipython3",
   "version": "3.11.2"
  }
 },
 "nbformat": 4,
 "nbformat_minor": 4
}
